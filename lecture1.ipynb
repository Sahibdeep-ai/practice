{
 "cells": [
  {
   "cell_type": "code",
   "execution_count": 2,
   "id": "c28de503-456e-44f4-a100-031196e69aba",
   "metadata": {},
   "outputs": [
    {
     "name": "stdout",
     "output_type": "stream",
     "text": [
      "hello,world\n"
     ]
    }
   ],
   "source": [
    "print(\"hello,world\")\n"
   ]
  },
  {
   "cell_type": "code",
   "execution_count": 2,
   "id": "1b18a574-eeaa-47a5-88b3-18eb886c5127",
   "metadata": {},
   "outputs": [
    {
     "name": "stdout",
     "output_type": "stream",
     "text": [
      "Enter number 07\n"
     ]
    },
    {
     "name": "stdout",
     "output_type": "stream",
     "text": [
      "hi sahib 7\n"
     ]
    }
   ],
   "source": [
    "a=int(input(\"Enter number\"))\n",
    "print(\"hi sahib\",a)"
   ]
  },
  {
   "cell_type": "code",
   "execution_count": 1,
   "id": "feb2ac0c-ae99-4475-a148-def1adb8ab8f",
   "metadata": {},
   "outputs": [
    {
     "name": "stdout",
     "output_type": "stream",
     "text": [
      "Hello gurmehak\n"
     ]
    }
   ],
   "source": [
    "name=str(input(\"Enter your name\"))\n",
    "print(\"Hello\", name)"
   ]
  },
  {
   "cell_type": "code",
   "execution_count": 13,
   "id": "470f5b5f-9564-4073-b3fb-975a8290a69a",
   "metadata": {},
   "outputs": [
    {
     "data": {
      "text/plain": [
       "7"
      ]
     },
     "execution_count": 13,
     "metadata": {},
     "output_type": "execute_result"
    }
   ],
   "source": [
    "3+4\n"
   ]
  },
  {
   "cell_type": "code",
   "execution_count": 5,
   "id": "fadda2df-03d4-40f3-9475-3e8f65484ed8",
   "metadata": {},
   "outputs": [
    {
     "name": "stdout",
     "output_type": "stream",
     "text": [
      "7\n"
     ]
    }
   ],
   "source": [
    "print(3+4)\n"
   ]
  },
  {
   "cell_type": "code",
   "execution_count": 6,
   "id": "44540e1d-9eeb-4ff3-b55c-585a3f298dd9",
   "metadata": {},
   "outputs": [
    {
     "data": {
      "text/plain": [
       "57998"
      ]
     },
     "execution_count": 6,
     "metadata": {},
     "output_type": "execute_result"
    }
   ],
   "source": [
    "12321+45677"
   ]
  },
  {
   "cell_type": "code",
   "execution_count": 11,
   "id": "a73a6beb-470f-47b1-a8ab-eb80b10022bf",
   "metadata": {},
   "outputs": [
    {
     "name": "stdout",
     "output_type": "stream",
     "text": [
      "6\n"
     ]
    }
   ],
   "source": [
    "print(3*2)"
   ]
  },
  {
   "cell_type": "code",
   "execution_count": 12,
   "id": "db0fa489-a464-4d7d-960d-a2f8d884f85d",
   "metadata": {},
   "outputs": [
    {
     "data": {
      "text/plain": [
       "15368815935232"
      ]
     },
     "execution_count": 12,
     "metadata": {},
     "output_type": "execute_result"
    }
   ],
   "source": [
    "223424*68787668"
   ]
  },
  {
   "cell_type": "code",
   "execution_count": null,
   "id": "44e5adc9-e78a-4844-98cd-f6f554d69ada",
   "metadata": {},
   "outputs": [],
   "source": []
  }
 ],
 "metadata": {
  "kernelspec": {
   "display_name": "base",
   "language": "python",
   "name": "python3"
  },
  "language_info": {
   "codemirror_mode": {
    "name": "ipython",
    "version": 3
   },
   "file_extension": ".py",
   "mimetype": "text/x-python",
   "name": "python",
   "nbconvert_exporter": "python",
   "pygments_lexer": "ipython3",
   "version": "3.13.5"
  }
 },
 "nbformat": 4,
 "nbformat_minor": 5
}
