{
 "cells": [
  {
   "cell_type": "code",
   "execution_count": 3,
   "id": "29a56955-e579-4182-bf99-dd1f4ee72054",
   "metadata": {},
   "outputs": [
    {
     "name": "stdout",
     "output_type": "stream",
     "text": [
      "12\n"
     ]
    }
   ],
   "source": [
    "x=5+int('7')\n",
    "print(x)"
   ]
  },
  {
   "cell_type": "code",
   "execution_count": 8,
   "id": "cf82a767-6899-435d-b200-341b4e725f47",
   "metadata": {},
   "outputs": [
    {
     "name": "stdout",
     "output_type": "stream",
     "text": [
      "5\n",
      "7\n"
     ]
    }
   ],
   "source": [
    "total2=5\n",
    "print(total2)\n",
    "\n",
    "_total=7\n",
    "print(_total)"
   ]
  },
  {
   "cell_type": "code",
   "execution_count": 14,
   "id": "8866b4ba-c244-4cdb-8fe7-accffc9568a6",
   "metadata": {},
   "outputs": [
    {
     "name": "stdout",
     "output_type": "stream",
     "text": [
      "31\n"
     ]
    }
   ],
   "source": [
    "total_bill = 127.5\n",
    "npeople = 4\n",
    "perp =total_bill / npeople\n",
    "print(int(perp))\n"
   ]
  },
  {
   "cell_type": "code",
   "execution_count": null,
   "id": "32c070cf-ee7c-4e52-b989-34d76330dc90",
   "metadata": {},
   "outputs": [],
   "source": []
  }
 ],
 "metadata": {
  "kernelspec": {
   "display_name": "Python [conda env:base] *",
   "language": "python",
   "name": "conda-base-py"
  },
  "language_info": {
   "codemirror_mode": {
    "name": "ipython",
    "version": 3
   },
   "file_extension": ".py",
   "mimetype": "text/x-python",
   "name": "python",
   "nbconvert_exporter": "python",
   "pygments_lexer": "ipython3",
   "version": "3.13.5"
  }
 },
 "nbformat": 4,
 "nbformat_minor": 5
}
