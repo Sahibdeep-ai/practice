{
 "cells": [
  {
   "cell_type": "markdown",
   "id": "695fb833-5bc3-4059-8015-4dc8187844f7",
   "metadata": {},
   "source": [
    "k= \"4.8\"\n",
    "type(k)\n"
   ]
  },
  {
   "cell_type": "code",
   "execution_count": 2,
   "id": "b6aeec45-be39-4885-b46b-7a9e01373466",
   "metadata": {},
   "outputs": [
    {
     "data": {
      "text/plain": [
       "str"
      ]
     },
     "execution_count": 2,
     "metadata": {},
     "output_type": "execute_result"
    }
   ],
   "source": [
    "k=\"0.8\"\n",
    "type(k)"
   ]
  },
  {
   "cell_type": "code",
   "execution_count": 3,
   "id": "2522f096-922d-4fdb-b282-9627a5a0d410",
   "metadata": {},
   "outputs": [
    {
     "data": {
      "text/plain": [
       "float"
      ]
     },
     "execution_count": 3,
     "metadata": {},
     "output_type": "execute_result"
    }
   ],
   "source": [
    "l=5.9\n",
    "type(l)"
   ]
  },
  {
   "cell_type": "code",
   "execution_count": 4,
   "id": "10aedb20-6bfb-4e3a-a1b1-f2e5211e6abd",
   "metadata": {},
   "outputs": [
    {
     "data": {
      "text/plain": [
       "-2"
      ]
     },
     "execution_count": 4,
     "metadata": {},
     "output_type": "execute_result"
    }
   ],
   "source": [
    "5-7\n"
   ]
  },
  {
   "cell_type": "code",
   "execution_count": 3,
   "id": "f27fdd0a-ed4f-45c1-8ada-79e18338b238",
   "metadata": {},
   "outputs": [
    {
     "data": {
      "text/plain": [
       "6"
      ]
     },
     "execution_count": 3,
     "metadata": {},
     "output_type": "execute_result"
    }
   ],
   "source": [
    "3+3\n"
   ]
  },
  {
   "cell_type": "code",
   "execution_count": 3,
   "id": "ea9e5b0e-8de8-482a-b1b8-6f4e5c80f00c",
   "metadata": {},
   "outputs": [
    {
     "name": "stdout",
     "output_type": "stream",
     "text": [
      "X = {1}  y= {2}\n"
     ]
    }
   ],
   "source": [
    "x=1\n",
    "y=2\n",
    "print(f\"X =\", {x},\" y=\",{y})"
   ]
  },
  {
   "cell_type": "code",
   "execution_count": 2,
   "id": "a0a902ea-f637-4fc2-a5e6-e42427ba8664",
   "metadata": {},
   "outputs": [
    {
     "name": "stdout",
     "output_type": "stream",
     "text": [
      "x is: 5 y is: 2\n"
     ]
    }
   ],
   "source": [
    "x=5\n",
    "y=2\n",
    "print(f\"x is: {x} y is: {y}\")"
   ]
  },
  {
   "cell_type": "code",
   "execution_count": null,
   "id": "0c9a2863",
   "metadata": {},
   "outputs": [],
   "source": []
  }
 ],
 "metadata": {
  "kernelspec": {
   "display_name": "base",
   "language": "python",
   "name": "python3"
  },
  "language_info": {
   "codemirror_mode": {
    "name": "ipython",
    "version": 3
   },
   "file_extension": ".py",
   "mimetype": "text/x-python",
   "name": "python",
   "nbconvert_exporter": "python",
   "pygments_lexer": "ipython3",
   "version": "3.13.5"
  }
 },
 "nbformat": 4,
 "nbformat_minor": 5
}
